{
 "cells": [
  {
   "cell_type": "markdown",
   "metadata": {},
   "source": [
    "# Fetching the data of players from NBA.com, through the nba_api package"
   ]
  },
  {
   "cell_type": "markdown",
   "metadata": {},
   "source": [
    "## Players career stats"
   ]
  },
  {
   "cell_type": "code",
   "execution_count": null,
   "metadata": {},
   "outputs": [],
   "source": [
    "import pandas as pd\n",
    "import numpy as np\n",
    "import time\n",
    "\n",
    "#Career stats API calls\n",
    "from nba_api.stats.static import players\n",
    "from nba_api.stats.endpoints import playercareerstats as career\n",
    "\n",
    "#Player biography API calls\n",
    "from nba_api.stats.endpoints import leaguedashplayerbiostats as bio"
   ]
  },
  {
   "cell_type": "markdown",
   "metadata": {},
   "source": [
    "Most code is taken from the `nba_api` documentation, given as examples.\n",
    "\n",
    "Let's collect all players:"
   ]
  },
  {
   "cell_type": "code",
   "execution_count": 50,
   "metadata": {},
   "outputs": [
    {
     "name": "stdout",
     "output_type": "stream",
     "text": [
      "Number of players fetched: 5011\n"
     ]
    },
    {
     "data": {
      "text/plain": [
       "{'id': 76001,\n",
       " 'full_name': 'Alaa Abdelnaby',\n",
       " 'first_name': 'Alaa',\n",
       " 'last_name': 'Abdelnaby',\n",
       " 'is_active': False}"
      ]
     },
     "execution_count": 50,
     "metadata": {},
     "output_type": "execute_result"
    }
   ],
   "source": [
    "# get_players returns a list of dictionaries, each representing a player.\n",
    "nba_players = players.get_players()\n",
    "print(\"Number of players fetched: {}\".format(len(nba_players)))\n",
    "nba_players[0]"
   ]
  },
  {
   "cell_type": "code",
   "execution_count": 51,
   "metadata": {},
   "outputs": [
    {
     "data": {
      "text/plain": [
       "5011"
      ]
     },
     "execution_count": 51,
     "metadata": {},
     "output_type": "execute_result"
    }
   ],
   "source": [
    "ids =[player['id'] for player in nba_players]\n",
    "len(ids)"
   ]
  },
  {
   "cell_type": "markdown",
   "metadata": {},
   "source": [
    "This is fast, and we gathered player IDs, but contain only basic information - we need player career stats and bio.\n",
    "\n",
    "We can run `career.PlayerCareerStats(id)` to gather data about a player:"
   ]
  },
  {
   "cell_type": "code",
   "execution_count": 48,
   "metadata": {},
   "outputs": [
    {
     "data": {
      "application/vnd.microsoft.datawrangler.viewer.v0+json": {
       "columns": [
        {
         "name": "index",
         "rawType": "int64",
         "type": "integer"
        },
        {
         "name": "PLAYER_ID",
         "rawType": "int64",
         "type": "integer"
        },
        {
         "name": "SEASON_ID",
         "rawType": "object",
         "type": "string"
        },
        {
         "name": "LEAGUE_ID",
         "rawType": "object",
         "type": "string"
        },
        {
         "name": "TEAM_ID",
         "rawType": "int64",
         "type": "integer"
        },
        {
         "name": "TEAM_ABBREVIATION",
         "rawType": "object",
         "type": "string"
        },
        {
         "name": "PLAYER_AGE",
         "rawType": "float64",
         "type": "float"
        },
        {
         "name": "GP",
         "rawType": "int64",
         "type": "integer"
        },
        {
         "name": "GS",
         "rawType": "int64",
         "type": "integer"
        },
        {
         "name": "MIN",
         "rawType": "float64",
         "type": "float"
        },
        {
         "name": "FGM",
         "rawType": "int64",
         "type": "integer"
        },
        {
         "name": "FGA",
         "rawType": "int64",
         "type": "integer"
        },
        {
         "name": "FG_PCT",
         "rawType": "float64",
         "type": "float"
        },
        {
         "name": "FG3M",
         "rawType": "int64",
         "type": "integer"
        },
        {
         "name": "FG3A",
         "rawType": "int64",
         "type": "integer"
        },
        {
         "name": "FG3_PCT",
         "rawType": "float64",
         "type": "float"
        },
        {
         "name": "FTM",
         "rawType": "int64",
         "type": "integer"
        },
        {
         "name": "FTA",
         "rawType": "int64",
         "type": "integer"
        },
        {
         "name": "FT_PCT",
         "rawType": "float64",
         "type": "float"
        },
        {
         "name": "OREB",
         "rawType": "int64",
         "type": "integer"
        },
        {
         "name": "DREB",
         "rawType": "int64",
         "type": "integer"
        },
        {
         "name": "REB",
         "rawType": "int64",
         "type": "integer"
        },
        {
         "name": "AST",
         "rawType": "int64",
         "type": "integer"
        },
        {
         "name": "STL",
         "rawType": "int64",
         "type": "integer"
        },
        {
         "name": "BLK",
         "rawType": "int64",
         "type": "integer"
        },
        {
         "name": "TOV",
         "rawType": "int64",
         "type": "integer"
        },
        {
         "name": "PF",
         "rawType": "int64",
         "type": "integer"
        },
        {
         "name": "PTS",
         "rawType": "int64",
         "type": "integer"
        }
       ],
       "conversionMethod": "pd.DataFrame",
       "ref": "972f3854-8057-49a7-a72f-42479db96dba",
       "rows": [
        [
         "0",
         "76001",
         "1990-91",
         "00",
         "1610612757",
         "POR",
         "23.0",
         "43",
         "0",
         "290.0",
         "55",
         "116",
         "0.474",
         "0",
         "0",
         "0.0",
         "25",
         "44",
         "0.568",
         "27",
         "62",
         "89",
         "12",
         "4",
         "12",
         "22",
         "39",
         "135"
        ],
        [
         "1",
         "76001",
         "1991-92",
         "00",
         "1610612757",
         "POR",
         "24.0",
         "71",
         "1",
         "934.0",
         "178",
         "361",
         "0.493",
         "0",
         "0",
         "0.0",
         "76",
         "101",
         "0.752",
         "81",
         "179",
         "260",
         "30",
         "25",
         "16",
         "66",
         "132",
         "432"
        ],
        [
         "2",
         "76001",
         "1992-93",
         "00",
         "1610612749",
         "MIL",
         "25.0",
         "12",
         "0",
         "159.0",
         "26",
         "56",
         "0.464",
         "0",
         "1",
         "0.0",
         "12",
         "16",
         "0.75",
         "12",
         "25",
         "37",
         "10",
         "6",
         "4",
         "13",
         "24",
         "64"
        ],
        [
         "3",
         "76001",
         "1992-93",
         "00",
         "1610612738",
         "BOS",
         "25.0",
         "63",
         "52",
         "1152.0",
         "219",
         "417",
         "0.525",
         "0",
         "0",
         "0.0",
         "76",
         "100",
         "0.76",
         "114",
         "186",
         "300",
         "17",
         "19",
         "22",
         "84",
         "165",
         "514"
        ],
        [
         "4",
         "76001",
         "1992-93",
         "00",
         "0",
         "TOT",
         "25.0",
         "75",
         "52",
         "1311.0",
         "245",
         "473",
         "0.518",
         "0",
         "1",
         "0.0",
         "88",
         "116",
         "0.759",
         "126",
         "211",
         "337",
         "27",
         "25",
         "26",
         "97",
         "189",
         "578"
        ],
        [
         "5",
         "76001",
         "1993-94",
         "00",
         "1610612738",
         "BOS",
         "26.0",
         "13",
         "0",
         "159.0",
         "24",
         "55",
         "0.436",
         "0",
         "0",
         "0.0",
         "16",
         "25",
         "0.64",
         "12",
         "34",
         "46",
         "3",
         "2",
         "3",
         "17",
         "20",
         "64"
        ],
        [
         "6",
         "76001",
         "1994-95",
         "00",
         "1610612758",
         "SAC",
         "27.0",
         "51",
         "0",
         "476.0",
         "117",
         "220",
         "0.532",
         "0",
         "2",
         "0.0",
         "20",
         "35",
         "0.571",
         "34",
         "72",
         "106",
         "13",
         "15",
         "12",
         "40",
         "102",
         "254"
        ],
        [
         "7",
         "76001",
         "1994-95",
         "00",
         "1610612755",
         "PHL",
         "27.0",
         "3",
         "0",
         "30.0",
         "1",
         "11",
         "0.091",
         "0",
         "0",
         "0.0",
         "0",
         "0",
         "0.0",
         "3",
         "5",
         "8",
         "0",
         "0",
         "0",
         "5",
         "2",
         "2"
        ],
        [
         "8",
         "76001",
         "1994-95",
         "00",
         "0",
         "TOT",
         "27.0",
         "54",
         "0",
         "506.0",
         "118",
         "231",
         "0.511",
         "0",
         "2",
         "0.0",
         "20",
         "35",
         "0.571",
         "37",
         "77",
         "114",
         "13",
         "15",
         "12",
         "45",
         "104",
         "256"
        ]
       ],
       "shape": {
        "columns": 27,
        "rows": 9
       }
      },
      "text/html": [
       "<div>\n",
       "<style scoped>\n",
       "    .dataframe tbody tr th:only-of-type {\n",
       "        vertical-align: middle;\n",
       "    }\n",
       "\n",
       "    .dataframe tbody tr th {\n",
       "        vertical-align: top;\n",
       "    }\n",
       "\n",
       "    .dataframe thead th {\n",
       "        text-align: right;\n",
       "    }\n",
       "</style>\n",
       "<table border=\"1\" class=\"dataframe\">\n",
       "  <thead>\n",
       "    <tr style=\"text-align: right;\">\n",
       "      <th></th>\n",
       "      <th>PLAYER_ID</th>\n",
       "      <th>SEASON_ID</th>\n",
       "      <th>LEAGUE_ID</th>\n",
       "      <th>TEAM_ID</th>\n",
       "      <th>TEAM_ABBREVIATION</th>\n",
       "      <th>PLAYER_AGE</th>\n",
       "      <th>GP</th>\n",
       "      <th>GS</th>\n",
       "      <th>MIN</th>\n",
       "      <th>FGM</th>\n",
       "      <th>...</th>\n",
       "      <th>FT_PCT</th>\n",
       "      <th>OREB</th>\n",
       "      <th>DREB</th>\n",
       "      <th>REB</th>\n",
       "      <th>AST</th>\n",
       "      <th>STL</th>\n",
       "      <th>BLK</th>\n",
       "      <th>TOV</th>\n",
       "      <th>PF</th>\n",
       "      <th>PTS</th>\n",
       "    </tr>\n",
       "  </thead>\n",
       "  <tbody>\n",
       "    <tr>\n",
       "      <th>0</th>\n",
       "      <td>76001</td>\n",
       "      <td>1990-91</td>\n",
       "      <td>00</td>\n",
       "      <td>1610612757</td>\n",
       "      <td>POR</td>\n",
       "      <td>23.0</td>\n",
       "      <td>43</td>\n",
       "      <td>0</td>\n",
       "      <td>290.0</td>\n",
       "      <td>55</td>\n",
       "      <td>...</td>\n",
       "      <td>0.568</td>\n",
       "      <td>27</td>\n",
       "      <td>62</td>\n",
       "      <td>89</td>\n",
       "      <td>12</td>\n",
       "      <td>4</td>\n",
       "      <td>12</td>\n",
       "      <td>22</td>\n",
       "      <td>39</td>\n",
       "      <td>135</td>\n",
       "    </tr>\n",
       "    <tr>\n",
       "      <th>1</th>\n",
       "      <td>76001</td>\n",
       "      <td>1991-92</td>\n",
       "      <td>00</td>\n",
       "      <td>1610612757</td>\n",
       "      <td>POR</td>\n",
       "      <td>24.0</td>\n",
       "      <td>71</td>\n",
       "      <td>1</td>\n",
       "      <td>934.0</td>\n",
       "      <td>178</td>\n",
       "      <td>...</td>\n",
       "      <td>0.752</td>\n",
       "      <td>81</td>\n",
       "      <td>179</td>\n",
       "      <td>260</td>\n",
       "      <td>30</td>\n",
       "      <td>25</td>\n",
       "      <td>16</td>\n",
       "      <td>66</td>\n",
       "      <td>132</td>\n",
       "      <td>432</td>\n",
       "    </tr>\n",
       "    <tr>\n",
       "      <th>2</th>\n",
       "      <td>76001</td>\n",
       "      <td>1992-93</td>\n",
       "      <td>00</td>\n",
       "      <td>1610612749</td>\n",
       "      <td>MIL</td>\n",
       "      <td>25.0</td>\n",
       "      <td>12</td>\n",
       "      <td>0</td>\n",
       "      <td>159.0</td>\n",
       "      <td>26</td>\n",
       "      <td>...</td>\n",
       "      <td>0.750</td>\n",
       "      <td>12</td>\n",
       "      <td>25</td>\n",
       "      <td>37</td>\n",
       "      <td>10</td>\n",
       "      <td>6</td>\n",
       "      <td>4</td>\n",
       "      <td>13</td>\n",
       "      <td>24</td>\n",
       "      <td>64</td>\n",
       "    </tr>\n",
       "    <tr>\n",
       "      <th>3</th>\n",
       "      <td>76001</td>\n",
       "      <td>1992-93</td>\n",
       "      <td>00</td>\n",
       "      <td>1610612738</td>\n",
       "      <td>BOS</td>\n",
       "      <td>25.0</td>\n",
       "      <td>63</td>\n",
       "      <td>52</td>\n",
       "      <td>1152.0</td>\n",
       "      <td>219</td>\n",
       "      <td>...</td>\n",
       "      <td>0.760</td>\n",
       "      <td>114</td>\n",
       "      <td>186</td>\n",
       "      <td>300</td>\n",
       "      <td>17</td>\n",
       "      <td>19</td>\n",
       "      <td>22</td>\n",
       "      <td>84</td>\n",
       "      <td>165</td>\n",
       "      <td>514</td>\n",
       "    </tr>\n",
       "    <tr>\n",
       "      <th>4</th>\n",
       "      <td>76001</td>\n",
       "      <td>1992-93</td>\n",
       "      <td>00</td>\n",
       "      <td>0</td>\n",
       "      <td>TOT</td>\n",
       "      <td>25.0</td>\n",
       "      <td>75</td>\n",
       "      <td>52</td>\n",
       "      <td>1311.0</td>\n",
       "      <td>245</td>\n",
       "      <td>...</td>\n",
       "      <td>0.759</td>\n",
       "      <td>126</td>\n",
       "      <td>211</td>\n",
       "      <td>337</td>\n",
       "      <td>27</td>\n",
       "      <td>25</td>\n",
       "      <td>26</td>\n",
       "      <td>97</td>\n",
       "      <td>189</td>\n",
       "      <td>578</td>\n",
       "    </tr>\n",
       "    <tr>\n",
       "      <th>5</th>\n",
       "      <td>76001</td>\n",
       "      <td>1993-94</td>\n",
       "      <td>00</td>\n",
       "      <td>1610612738</td>\n",
       "      <td>BOS</td>\n",
       "      <td>26.0</td>\n",
       "      <td>13</td>\n",
       "      <td>0</td>\n",
       "      <td>159.0</td>\n",
       "      <td>24</td>\n",
       "      <td>...</td>\n",
       "      <td>0.640</td>\n",
       "      <td>12</td>\n",
       "      <td>34</td>\n",
       "      <td>46</td>\n",
       "      <td>3</td>\n",
       "      <td>2</td>\n",
       "      <td>3</td>\n",
       "      <td>17</td>\n",
       "      <td>20</td>\n",
       "      <td>64</td>\n",
       "    </tr>\n",
       "    <tr>\n",
       "      <th>6</th>\n",
       "      <td>76001</td>\n",
       "      <td>1994-95</td>\n",
       "      <td>00</td>\n",
       "      <td>1610612758</td>\n",
       "      <td>SAC</td>\n",
       "      <td>27.0</td>\n",
       "      <td>51</td>\n",
       "      <td>0</td>\n",
       "      <td>476.0</td>\n",
       "      <td>117</td>\n",
       "      <td>...</td>\n",
       "      <td>0.571</td>\n",
       "      <td>34</td>\n",
       "      <td>72</td>\n",
       "      <td>106</td>\n",
       "      <td>13</td>\n",
       "      <td>15</td>\n",
       "      <td>12</td>\n",
       "      <td>40</td>\n",
       "      <td>102</td>\n",
       "      <td>254</td>\n",
       "    </tr>\n",
       "    <tr>\n",
       "      <th>7</th>\n",
       "      <td>76001</td>\n",
       "      <td>1994-95</td>\n",
       "      <td>00</td>\n",
       "      <td>1610612755</td>\n",
       "      <td>PHL</td>\n",
       "      <td>27.0</td>\n",
       "      <td>3</td>\n",
       "      <td>0</td>\n",
       "      <td>30.0</td>\n",
       "      <td>1</td>\n",
       "      <td>...</td>\n",
       "      <td>0.000</td>\n",
       "      <td>3</td>\n",
       "      <td>5</td>\n",
       "      <td>8</td>\n",
       "      <td>0</td>\n",
       "      <td>0</td>\n",
       "      <td>0</td>\n",
       "      <td>5</td>\n",
       "      <td>2</td>\n",
       "      <td>2</td>\n",
       "    </tr>\n",
       "    <tr>\n",
       "      <th>8</th>\n",
       "      <td>76001</td>\n",
       "      <td>1994-95</td>\n",
       "      <td>00</td>\n",
       "      <td>0</td>\n",
       "      <td>TOT</td>\n",
       "      <td>27.0</td>\n",
       "      <td>54</td>\n",
       "      <td>0</td>\n",
       "      <td>506.0</td>\n",
       "      <td>118</td>\n",
       "      <td>...</td>\n",
       "      <td>0.571</td>\n",
       "      <td>37</td>\n",
       "      <td>77</td>\n",
       "      <td>114</td>\n",
       "      <td>13</td>\n",
       "      <td>15</td>\n",
       "      <td>12</td>\n",
       "      <td>45</td>\n",
       "      <td>104</td>\n",
       "      <td>256</td>\n",
       "    </tr>\n",
       "  </tbody>\n",
       "</table>\n",
       "<p>9 rows × 27 columns</p>\n",
       "</div>"
      ],
      "text/plain": [
       "   PLAYER_ID SEASON_ID LEAGUE_ID     TEAM_ID TEAM_ABBREVIATION  PLAYER_AGE  \\\n",
       "0      76001   1990-91        00  1610612757               POR        23.0   \n",
       "1      76001   1991-92        00  1610612757               POR        24.0   \n",
       "2      76001   1992-93        00  1610612749               MIL        25.0   \n",
       "3      76001   1992-93        00  1610612738               BOS        25.0   \n",
       "4      76001   1992-93        00           0               TOT        25.0   \n",
       "5      76001   1993-94        00  1610612738               BOS        26.0   \n",
       "6      76001   1994-95        00  1610612758               SAC        27.0   \n",
       "7      76001   1994-95        00  1610612755               PHL        27.0   \n",
       "8      76001   1994-95        00           0               TOT        27.0   \n",
       "\n",
       "   GP  GS     MIN  FGM  ...  FT_PCT  OREB  DREB  REB  AST  STL  BLK  TOV   PF  \\\n",
       "0  43   0   290.0   55  ...   0.568    27    62   89   12    4   12   22   39   \n",
       "1  71   1   934.0  178  ...   0.752    81   179  260   30   25   16   66  132   \n",
       "2  12   0   159.0   26  ...   0.750    12    25   37   10    6    4   13   24   \n",
       "3  63  52  1152.0  219  ...   0.760   114   186  300   17   19   22   84  165   \n",
       "4  75  52  1311.0  245  ...   0.759   126   211  337   27   25   26   97  189   \n",
       "5  13   0   159.0   24  ...   0.640    12    34   46    3    2    3   17   20   \n",
       "6  51   0   476.0  117  ...   0.571    34    72  106   13   15   12   40  102   \n",
       "7   3   0    30.0    1  ...   0.000     3     5    8    0    0    0    5    2   \n",
       "8  54   0   506.0  118  ...   0.571    37    77  114   13   15   12   45  104   \n",
       "\n",
       "   PTS  \n",
       "0  135  \n",
       "1  432  \n",
       "2   64  \n",
       "3  514  \n",
       "4  578  \n",
       "5   64  \n",
       "6  254  \n",
       "7    2  \n",
       "8  256  \n",
       "\n",
       "[9 rows x 27 columns]"
      ]
     },
     "execution_count": 48,
     "metadata": {},
     "output_type": "execute_result"
    }
   ],
   "source": [
    "id = 76001\n",
    "career_stats = career.PlayerCareerStats(player_id=id, timeout=2)\n",
    "careers = career_stats.get_data_frames()[0]\n",
    "careers"
   ]
  },
  {
   "cell_type": "markdown",
   "metadata": {},
   "source": [
    "The data we have collected before of 4900 players is just name and ID.<br>\n",
    "`PlayerCareerStats` data seems to contain most (if not all) of the information we can collect about player match statistics, so let's fetch it for all players.\n",
    "\n",
    "We fetch the players in 4 batches, and any player who was not successfully fetched in stored in a list, to try again later. (The NBA API has quite a limit (especially during matches), so that is why for some players data collection didn't happen.)"
   ]
  },
  {
   "cell_type": "code",
   "execution_count": 52,
   "metadata": {},
   "outputs": [],
   "source": [
    "id_len = len(ids)\n",
    "ids_half = ids[:id_len//2]\n",
    "ids_half2 = ids[id_len//2:]\n",
    "ids_quarter1 = ids[:id_len//4]\n",
    "ids_quarter2 = ids[id_len//4:id_len//2]\n",
    "ids_quarter3 = ids[id_len//2:3*id_len//4]\n",
    "ids_quarter4 = ids[3*id_len//4:]\n",
    "\n",
    "wrong = []"
   ]
  },
  {
   "cell_type": "code",
   "execution_count": null,
   "metadata": {},
   "outputs": [],
   "source": [
    "from tqdm import tqdm\n",
    "\n",
    "def add_career(id, careers, timeout=2):\n",
    "    career_stats = career.PlayerCareerStats(player_id=id, timeout=timeout)\n",
    "    career_stats_df = career_stats.get_data_frames()[0]\n",
    "    careers = pd.concat([careers, career_stats_df], ignore_index=True)\n",
    "    return careers\n",
    "\n",
    "def get_careers(ids, careers, wrong=[], timeouts = [1, 2]):\n",
    "    for id in tqdm(ids, desc=\"Processing IDs\"):\n",
    "        try:\n",
    "            careers = add_career(id, careers, timeout= timeouts[0])\n",
    "        except:\n",
    "            #Retry with delay\n",
    "            time.sleep(0.3)\n",
    "            try:\n",
    "                careers = add_career(id, careers, timeout= timeouts[1])\n",
    "            except:\n",
    "                try:\n",
    "                    time.sleep(1)\n",
    "                    careers = add_career(id, careers, timeout = 1.5)\n",
    "                except:\n",
    "                    wrong.append(id)\n",
    "    return careers, wrong"
   ]
  },
  {
   "cell_type": "markdown",
   "metadata": {},
   "source": [
    "Depending on many things (current website traffic, also from where you visit the website), fetching each quarter can take varying time. It usually takes 40-80mins for each, but I've also had cases when some batches surprisingly took only 5-10 minutes (no rate limiting)."
   ]
  },
  {
   "cell_type": "code",
   "execution_count": null,
   "metadata": {},
   "outputs": [],
   "source": [
    "#Warning: This will typically take 30-60 minutes to run\n",
    "careers, wrong = get_careers(ids_quarter1, careers, wrong)\n",
    "careers.to_csv('data\\career.csv', index=False)"
   ]
  },
  {
   "cell_type": "markdown",
   "metadata": {},
   "source": [
    "2nd batch:"
   ]
  },
  {
   "cell_type": "code",
   "execution_count": null,
   "metadata": {},
   "outputs": [],
   "source": [
    "careers, wrong = get_careers(ids_quarter2, careers, wrong)\n",
    "careers.to_csv('data\\career.csv', index=False)"
   ]
  },
  {
   "cell_type": "markdown",
   "metadata": {},
   "source": [
    "3rd batch (removed process bar):"
   ]
  },
  {
   "cell_type": "code",
   "execution_count": null,
   "metadata": {},
   "outputs": [],
   "source": [
    "careers, wrong = get_careers(ids_quarter3, careers, wrong, timeouts = [1, 1])\n",
    "careers.to_csv('data\\career.csv', index=False)"
   ]
  },
  {
   "cell_type": "markdown",
   "metadata": {},
   "source": [
    "4th batch:"
   ]
  },
  {
   "cell_type": "code",
   "execution_count": null,
   "metadata": {},
   "outputs": [],
   "source": [
    "careers, wrong = get_careers(ids_quarter4, careers, wrong)\n",
    "careers.to_csv('data\\career.csv', index=False)"
   ]
  },
  {
   "cell_type": "markdown",
   "metadata": {},
   "source": [
    "Let's try to refetch the \"wrong ID\" players, we can just create a new list of wrong IDs and use the previous wrongs to try again.<br>\n",
    "Each missing "
   ]
  },
  {
   "cell_type": "code",
   "execution_count": null,
   "metadata": {},
   "outputs": [],
   "source": [
    "wrong2 = []\n",
    "for i in range(10):\n",
    "    #On even loops, we append to wrong2 and empty wrong, on odd loops, vice versa\n",
    "    if(i%2==0):\n",
    "        careers, wrong2 = get_careers(wrong, careers, wrong2)\n",
    "        wrong = []\n",
    "    else:\n",
    "        careers, wrong = get_careers(wrong2, careers, wrong)\n",
    "        wrong2 = []"
   ]
  },
  {
   "cell_type": "markdown",
   "metadata": {},
   "source": [
    "After 10 iterations of trying to fetch previously unsuccessful IDs, we're left with only 7 IDs that did not yield a result anytime.<br>\n",
    "These don't seem to fetch with further tries either."
   ]
  },
  {
   "cell_type": "code",
   "execution_count": null,
   "metadata": {},
   "outputs": [
    {
     "data": {
      "text/plain": [
       "[76415, 1432, 202408, 76468, 201986, 1629602, 76564]"
      ]
     },
     "execution_count": 47,
     "metadata": {},
     "output_type": "execute_result"
    }
   ],
   "source": [
    "wrong"
   ]
  },
  {
   "cell_type": "markdown",
   "metadata": {},
   "source": [
    "I select only 20 seasons, 2003-04 to 2022-23, and save the data into a CSV.<br>\n",
    "(Because of not succeeding to gather the 2023-24 season bio data, probably due to high subpage traffic, I take the \"last\" season as 2022-23.)"
   ]
  },
  {
   "cell_type": "code",
   "execution_count": null,
   "metadata": {},
   "outputs": [],
   "source": [
    "careers.to_csv('data\\career.csv', index=False)\n",
    "\n",
    "seasons = [\"2022-23\", \"2021-22\",\"2020-21\",'2019-20', '2018-19', '2017-18', '2016-17', '2015-16', '2014-15', '2013-14','2012-13', '2011-12', '2010-11', '2009-10', '2008-09','2007-08', '2006-07', '2005-06', '2004-05', '2003-04',]\n",
    "careers_filtered = careers[(careers['SEASON_ID'].isin(seasons)) | (careers['SEASON_ID']==\"2022-23\")].reset_index(drop=True) #I didn't include 2022-23 in the seasons list\n",
    "careers_filtered.to_csv('data\\career_filtered.csv', index=False)"
   ]
  },
  {
   "cell_type": "markdown",
   "metadata": {},
   "source": [
    "## Player Bio Data"
   ]
  },
  {
   "cell_type": "markdown",
   "metadata": {},
   "source": [
    "We also need info about player height, weight etc. which is not included in the career stats."
   ]
  },
  {
   "cell_type": "markdown",
   "metadata": {},
   "source": [
    "One important information missing is player position.<br>\n",
    "Sadly, the NBA does not provide this information as it is not trivially defined. Positions changed a lot over the years, and can differ team by team.<br>\n",
    "\n",
    "There are some sources that predict the positions, but I would rather skip using them.<br>\n",
    "|POS|Position   |G: Guard (shooting guard and point guard), F: Forward (power forward and small forward), C: Center   |"
   ]
  },
  {
   "cell_type": "markdown",
   "metadata": {},
   "source": [
    "The previous season players:"
   ]
  },
  {
   "cell_type": "code",
   "execution_count": 30,
   "metadata": {},
   "outputs": [
    {
     "data": {
      "application/vnd.microsoft.datawrangler.viewer.v0+json": {
       "columns": [
        {
         "name": "index",
         "rawType": "int64",
         "type": "integer"
        },
        {
         "name": "PLAYER_ID",
         "rawType": "int64",
         "type": "integer"
        },
        {
         "name": "PLAYER_NAME",
         "rawType": "object",
         "type": "string"
        },
        {
         "name": "TEAM_ID",
         "rawType": "int64",
         "type": "integer"
        },
        {
         "name": "TEAM_ABBREVIATION",
         "rawType": "object",
         "type": "string"
        },
        {
         "name": "AGE",
         "rawType": "float64",
         "type": "float"
        },
        {
         "name": "PLAYER_HEIGHT",
         "rawType": "object",
         "type": "string"
        },
        {
         "name": "PLAYER_HEIGHT_INCHES",
         "rawType": "int64",
         "type": "integer"
        },
        {
         "name": "PLAYER_WEIGHT",
         "rawType": "object",
         "type": "string"
        },
        {
         "name": "COLLEGE",
         "rawType": "object",
         "type": "string"
        },
        {
         "name": "COUNTRY",
         "rawType": "object",
         "type": "string"
        },
        {
         "name": "DRAFT_YEAR",
         "rawType": "object",
         "type": "string"
        },
        {
         "name": "DRAFT_ROUND",
         "rawType": "object",
         "type": "string"
        },
        {
         "name": "DRAFT_NUMBER",
         "rawType": "object",
         "type": "string"
        },
        {
         "name": "GP",
         "rawType": "int64",
         "type": "integer"
        },
        {
         "name": "PTS",
         "rawType": "int64",
         "type": "integer"
        },
        {
         "name": "REB",
         "rawType": "int64",
         "type": "integer"
        },
        {
         "name": "AST",
         "rawType": "int64",
         "type": "integer"
        },
        {
         "name": "NET_RATING",
         "rawType": "float64",
         "type": "float"
        },
        {
         "name": "OREB_PCT",
         "rawType": "float64",
         "type": "float"
        },
        {
         "name": "DREB_PCT",
         "rawType": "float64",
         "type": "float"
        },
        {
         "name": "USG_PCT",
         "rawType": "float64",
         "type": "float"
        },
        {
         "name": "TS_PCT",
         "rawType": "float64",
         "type": "float"
        },
        {
         "name": "AST_PCT",
         "rawType": "float64",
         "type": "float"
        },
        {
         "name": "SEASON_ID",
         "rawType": "object",
         "type": "string"
        }
       ],
       "conversionMethod": "pd.DataFrame",
       "ref": "842bc3c3-85cb-413c-b55d-d8962e321819",
       "rows": [
        [
         "0",
         "1630639",
         "A.J. Lawson",
         "1610612742",
         "DAL",
         "22.0",
         "6-6",
         "78",
         "179",
         "South Carolina",
         "Canada",
         "Undrafted",
         "Undrafted",
         "Undrafted",
         "15",
         "56",
         "21",
         "2",
         "-20.1",
         "0.046",
         "0.152",
         "0.189",
         "0.589",
         "0.032",
         "2022-23"
        ],
        [
         "1",
         "1631260",
         "AJ Green",
         "1610612749",
         "MIL",
         "23.0",
         "6-5",
         "77",
         "190",
         "Northern Iowa",
         "USA",
         "Undrafted",
         "Undrafted",
         "Undrafted",
         "35",
         "154",
         "45",
         "22",
         "-4.9",
         "0.016",
         "0.105",
         "0.159",
         "0.607",
         "0.092",
         "2022-23"
        ],
        [
         "2",
         "1631100",
         "AJ Griffin",
         "1610612737",
         "ATL",
         "19.0",
         "6-6",
         "78",
         "220",
         "Duke",
         "USA",
         "2022",
         "1",
         "16",
         "72",
         "639",
         "153",
         "73",
         "1.5",
         "0.026",
         "0.08",
         "0.174",
         "0.577",
         "0.07",
         "2022-23"
        ],
        [
         "3",
         "203932",
         "Aaron Gordon",
         "1610612743",
         "DEN",
         "27.0",
         "6-8",
         "80",
         "235",
         "Arizona",
         "USA",
         "2014",
         "1",
         "4",
         "68",
         "1109",
         "446",
         "203",
         "12.1",
         "0.086",
         "0.136",
         "0.206",
         "0.617",
         "0.129",
         "2022-23"
        ],
        [
         "4",
         "1628988",
         "Aaron Holiday",
         "1610612737",
         "ATL",
         "26.0",
         "6-0",
         "72",
         "185",
         "UCLA",
         "USA",
         "2018",
         "1",
         "23",
         "63",
         "247",
         "74",
         "89",
         "0.9",
         "0.028",
         "0.059",
         "0.129",
         "0.528",
         "0.135",
         "2022-23"
        ]
       ],
       "shape": {
        "columns": 24,
        "rows": 5
       }
      },
      "text/html": [
       "<div>\n",
       "<style scoped>\n",
       "    .dataframe tbody tr th:only-of-type {\n",
       "        vertical-align: middle;\n",
       "    }\n",
       "\n",
       "    .dataframe tbody tr th {\n",
       "        vertical-align: top;\n",
       "    }\n",
       "\n",
       "    .dataframe thead th {\n",
       "        text-align: right;\n",
       "    }\n",
       "</style>\n",
       "<table border=\"1\" class=\"dataframe\">\n",
       "  <thead>\n",
       "    <tr style=\"text-align: right;\">\n",
       "      <th></th>\n",
       "      <th>PLAYER_ID</th>\n",
       "      <th>PLAYER_NAME</th>\n",
       "      <th>TEAM_ID</th>\n",
       "      <th>TEAM_ABBREVIATION</th>\n",
       "      <th>AGE</th>\n",
       "      <th>PLAYER_HEIGHT</th>\n",
       "      <th>PLAYER_HEIGHT_INCHES</th>\n",
       "      <th>PLAYER_WEIGHT</th>\n",
       "      <th>COLLEGE</th>\n",
       "      <th>COUNTRY</th>\n",
       "      <th>...</th>\n",
       "      <th>PTS</th>\n",
       "      <th>REB</th>\n",
       "      <th>AST</th>\n",
       "      <th>NET_RATING</th>\n",
       "      <th>OREB_PCT</th>\n",
       "      <th>DREB_PCT</th>\n",
       "      <th>USG_PCT</th>\n",
       "      <th>TS_PCT</th>\n",
       "      <th>AST_PCT</th>\n",
       "      <th>SEASON_ID</th>\n",
       "    </tr>\n",
       "  </thead>\n",
       "  <tbody>\n",
       "    <tr>\n",
       "      <th>0</th>\n",
       "      <td>1630639</td>\n",
       "      <td>A.J. Lawson</td>\n",
       "      <td>1610612742</td>\n",
       "      <td>DAL</td>\n",
       "      <td>22.0</td>\n",
       "      <td>6-6</td>\n",
       "      <td>78</td>\n",
       "      <td>179</td>\n",
       "      <td>South Carolina</td>\n",
       "      <td>Canada</td>\n",
       "      <td>...</td>\n",
       "      <td>56</td>\n",
       "      <td>21</td>\n",
       "      <td>2</td>\n",
       "      <td>-20.1</td>\n",
       "      <td>0.046</td>\n",
       "      <td>0.152</td>\n",
       "      <td>0.189</td>\n",
       "      <td>0.589</td>\n",
       "      <td>0.032</td>\n",
       "      <td>2022-23</td>\n",
       "    </tr>\n",
       "    <tr>\n",
       "      <th>1</th>\n",
       "      <td>1631260</td>\n",
       "      <td>AJ Green</td>\n",
       "      <td>1610612749</td>\n",
       "      <td>MIL</td>\n",
       "      <td>23.0</td>\n",
       "      <td>6-5</td>\n",
       "      <td>77</td>\n",
       "      <td>190</td>\n",
       "      <td>Northern Iowa</td>\n",
       "      <td>USA</td>\n",
       "      <td>...</td>\n",
       "      <td>154</td>\n",
       "      <td>45</td>\n",
       "      <td>22</td>\n",
       "      <td>-4.9</td>\n",
       "      <td>0.016</td>\n",
       "      <td>0.105</td>\n",
       "      <td>0.159</td>\n",
       "      <td>0.607</td>\n",
       "      <td>0.092</td>\n",
       "      <td>2022-23</td>\n",
       "    </tr>\n",
       "    <tr>\n",
       "      <th>2</th>\n",
       "      <td>1631100</td>\n",
       "      <td>AJ Griffin</td>\n",
       "      <td>1610612737</td>\n",
       "      <td>ATL</td>\n",
       "      <td>19.0</td>\n",
       "      <td>6-6</td>\n",
       "      <td>78</td>\n",
       "      <td>220</td>\n",
       "      <td>Duke</td>\n",
       "      <td>USA</td>\n",
       "      <td>...</td>\n",
       "      <td>639</td>\n",
       "      <td>153</td>\n",
       "      <td>73</td>\n",
       "      <td>1.5</td>\n",
       "      <td>0.026</td>\n",
       "      <td>0.080</td>\n",
       "      <td>0.174</td>\n",
       "      <td>0.577</td>\n",
       "      <td>0.070</td>\n",
       "      <td>2022-23</td>\n",
       "    </tr>\n",
       "    <tr>\n",
       "      <th>3</th>\n",
       "      <td>203932</td>\n",
       "      <td>Aaron Gordon</td>\n",
       "      <td>1610612743</td>\n",
       "      <td>DEN</td>\n",
       "      <td>27.0</td>\n",
       "      <td>6-8</td>\n",
       "      <td>80</td>\n",
       "      <td>235</td>\n",
       "      <td>Arizona</td>\n",
       "      <td>USA</td>\n",
       "      <td>...</td>\n",
       "      <td>1109</td>\n",
       "      <td>446</td>\n",
       "      <td>203</td>\n",
       "      <td>12.1</td>\n",
       "      <td>0.086</td>\n",
       "      <td>0.136</td>\n",
       "      <td>0.206</td>\n",
       "      <td>0.617</td>\n",
       "      <td>0.129</td>\n",
       "      <td>2022-23</td>\n",
       "    </tr>\n",
       "    <tr>\n",
       "      <th>4</th>\n",
       "      <td>1628988</td>\n",
       "      <td>Aaron Holiday</td>\n",
       "      <td>1610612737</td>\n",
       "      <td>ATL</td>\n",
       "      <td>26.0</td>\n",
       "      <td>6-0</td>\n",
       "      <td>72</td>\n",
       "      <td>185</td>\n",
       "      <td>UCLA</td>\n",
       "      <td>USA</td>\n",
       "      <td>...</td>\n",
       "      <td>247</td>\n",
       "      <td>74</td>\n",
       "      <td>89</td>\n",
       "      <td>0.9</td>\n",
       "      <td>0.028</td>\n",
       "      <td>0.059</td>\n",
       "      <td>0.129</td>\n",
       "      <td>0.528</td>\n",
       "      <td>0.135</td>\n",
       "      <td>2022-23</td>\n",
       "    </tr>\n",
       "  </tbody>\n",
       "</table>\n",
       "<p>5 rows × 24 columns</p>\n",
       "</div>"
      ],
      "text/plain": [
       "   PLAYER_ID    PLAYER_NAME     TEAM_ID TEAM_ABBREVIATION   AGE PLAYER_HEIGHT  \\\n",
       "0    1630639    A.J. Lawson  1610612742               DAL  22.0           6-6   \n",
       "1    1631260       AJ Green  1610612749               MIL  23.0           6-5   \n",
       "2    1631100     AJ Griffin  1610612737               ATL  19.0           6-6   \n",
       "3     203932   Aaron Gordon  1610612743               DEN  27.0           6-8   \n",
       "4    1628988  Aaron Holiday  1610612737               ATL  26.0           6-0   \n",
       "\n",
       "   PLAYER_HEIGHT_INCHES PLAYER_WEIGHT         COLLEGE COUNTRY  ...   PTS  REB  \\\n",
       "0                    78           179  South Carolina  Canada  ...    56   21   \n",
       "1                    77           190   Northern Iowa     USA  ...   154   45   \n",
       "2                    78           220            Duke     USA  ...   639  153   \n",
       "3                    80           235         Arizona     USA  ...  1109  446   \n",
       "4                    72           185            UCLA     USA  ...   247   74   \n",
       "\n",
       "   AST  NET_RATING  OREB_PCT  DREB_PCT  USG_PCT  TS_PCT  AST_PCT  SEASON_ID  \n",
       "0    2       -20.1     0.046     0.152    0.189   0.589    0.032    2022-23  \n",
       "1   22        -4.9     0.016     0.105    0.159   0.607    0.092    2022-23  \n",
       "2   73         1.5     0.026     0.080    0.174   0.577    0.070    2022-23  \n",
       "3  203        12.1     0.086     0.136    0.206   0.617    0.129    2022-23  \n",
       "4   89         0.9     0.028     0.059    0.129   0.528    0.135    2022-23  \n",
       "\n",
       "[5 rows x 24 columns]"
      ]
     },
     "execution_count": 30,
     "metadata": {},
     "output_type": "execute_result"
    }
   ],
   "source": [
    "bio_stats = bio.LeagueDashPlayerBioStats(season=\"2022-23\", timeout = 4)  #LeagueID, PerMode, Season, SeasonType\n",
    "bios = bio_stats.get_data_frames()[0]\n",
    "bios[\"SEASON_ID\"] = [\"2022-23\"]*len(bios)\n",
    "bios.head()"
   ]
  },
  {
   "cell_type": "markdown",
   "metadata": {},
   "source": [
    "Fetch seasons, with some delay-retry if the request fails:"
   ]
  },
  {
   "cell_type": "code",
   "execution_count": 34,
   "metadata": {},
   "outputs": [],
   "source": [
    "def add_season_bios(season, bios, timeout=2):\n",
    "    bio_stats = bio.LeagueDashPlayerBioStats(season=season, timeout=timeout)\n",
    "    season_bio = bio_stats.get_data_frames()[0]\n",
    "    season_bio[\"SEASON_ID\"] = [season]*len(season_bio)\n",
    "    bios = pd.concat([bios, season_bio], ignore_index=True)\n",
    "    return bios\n",
    "\n",
    "def get_seasons_bios(seasons, bios, timeouts = [4, 4]):\n",
    "    wrongs = []\n",
    "    for season in seasons:\n",
    "        try:\n",
    "            bios = add_season_bios(season, bios, timeout=timeouts[0])\n",
    "        except:\n",
    "            time.sleep(2)\n",
    "            try:\n",
    "                bios = add_season_bios(season, bios, timeout=timeouts[1])\n",
    "            except:\n",
    "                print(f\"Failed to fetch season {season}\")\n",
    "                wrongs.append(season)\n",
    "    return bios, wrongs\n",
    "\n",
    "seasons = [\"2021-22\",\"2020-21\",'2019-20', '2018-19', '2017-18', '2016-17', '2015-16', '2014-15', '2013-14','2012-13', '2011-12', '2010-11', '2009-10', '2008-09','2007-08', '2006-07', '2005-06', '2004-05', '2003-04',]\n",
    "wrongs = []\n",
    "bios, wrongs = get_seasons_bios(seasons, bios, timeouts = [4, 4])"
   ]
  },
  {
   "cell_type": "markdown",
   "metadata": {},
   "source": [
    "No season missing. We can save our table:"
   ]
  },
  {
   "cell_type": "code",
   "execution_count": 38,
   "metadata": {},
   "outputs": [],
   "source": [
    "bios.to_csv('data\\player_bios.csv', index=False)"
   ]
  }
 ],
 "metadata": {
  "kernelspec": {
   "display_name": "3.10.11",
   "language": "python",
   "name": "python3"
  },
  "language_info": {
   "codemirror_mode": {
    "name": "ipython",
    "version": 3
   },
   "file_extension": ".py",
   "mimetype": "text/x-python",
   "name": "python",
   "nbconvert_exporter": "python",
   "pygments_lexer": "ipython3",
   "version": "3.10.11"
  }
 },
 "nbformat": 4,
 "nbformat_minor": 2
}
